{
 "cells": [
  {
   "cell_type": "code",
   "execution_count": 47,
   "metadata": {
    "collapsed": true
   },
   "outputs": [],
   "source": [
    "import numpy as np\n",
    "np.random.seed(42)\n",
    "x=np.random.rand(100,3)\n",
    "b=np.array([1,4.5,6])"
   ]
  },
  {
   "cell_type": "code",
   "execution_count": 48,
   "metadata": {},
   "outputs": [
    {
     "data": {
      "text/plain": [
       "array([[ 9.04471815,  2.23670949,  7.56256634,  6.62016192,  2.87891844,\n",
       "         4.70103319,  5.41359352,  3.65231584,  5.1874045 ,  3.45880247,\n",
       "         1.76521297, 10.14461377,  4.84953644,  3.96038601,  5.67901022,\n",
       "         5.18563025,  7.1960631 , 10.37184216,  5.27728905,  2.35148765,\n",
       "         6.58217299,  4.87713512,  4.1981145 ,  5.65428249,  7.91624261,\n",
       "         4.64399164,  6.05849705,  2.49368934,  6.15194434,  7.46330436,\n",
       "         7.89390608,  6.99340309,  2.59918217,  4.06778523,  8.04832293,\n",
       "         6.62932221,  2.31371648,  9.193583  ,  9.37700887,  7.439139  ,\n",
       "         6.74787185,  3.69840689,  4.73301517,  3.72174368,  7.29659186,\n",
       "         6.87587448, 10.51133274,  4.29467043,  4.10821776,  2.40621219,\n",
       "         2.85566363,  6.37721143,  5.52524908,  6.17707543,  3.58625441,\n",
       "         3.39792385,  6.76517956,  3.67998124,  5.57544815,  5.42714596,\n",
       "         6.39985891,  5.99798095,  6.49352932,  6.04410929,  5.78355336,\n",
       "         8.99867169,  8.24871626,  6.20279431,  1.25664505,  1.6511272 ,\n",
       "         7.57402974,  4.85257033,  7.58240842,  7.21833305,  3.33961009,\n",
       "         6.98112349,  8.50103819,  6.05381074,  5.13091168,  3.99160537,\n",
       "        10.72232352,  6.00962485, 10.5598507 ,  4.48861584,  3.29424217,\n",
       "         8.94567653,  4.69739875,  4.73040983,  8.3929263 ,  4.08174533,\n",
       "         9.65730534,  6.22337912,  7.93493413,  6.82878765,  4.26818253,\n",
       "         5.38700116,  3.12829242,  5.90019456,  7.0971165 ,  3.53091296]])"
      ]
     },
     "execution_count": 48,
     "metadata": {},
     "output_type": "execute_result"
    }
   ],
   "source": [
    "y=x.dot(b)\n",
    "x.reshape(1,-1)\n",
    "y.reshape(1,-1)"
   ]
  },
  {
   "cell_type": "code",
   "execution_count": null,
   "metadata": {},
   "outputs": [],
   "source": []
  },
  {
   "cell_type": "code",
   "execution_count": 49,
   "metadata": {},
   "outputs": [],
   "source": [
    "from sklearn.linear_model import LinearRegression"
   ]
  },
  {
   "cell_type": "code",
   "execution_count": 50,
   "metadata": {
    "collapsed": true
   },
   "outputs": [],
   "source": [
    "lr=LinearRegression()"
   ]
  },
  {
   "cell_type": "code",
   "execution_count": 74,
   "metadata": {},
   "outputs": [
    {
     "data": {
      "text/plain": [
       "3"
      ]
     },
     "execution_count": 74,
     "metadata": {},
     "output_type": "execute_result"
    }
   ],
   "source": [
    "m,d=x.shape\n",
    "d"
   ]
  },
  {
   "cell_type": "code",
   "execution_count": 55,
   "metadata": {},
   "outputs": [
    {
     "data": {
      "text/plain": [
       "array([1. , 4.5, 6. ])"
      ]
     },
     "execution_count": 55,
     "metadata": {},
     "output_type": "execute_result"
    }
   ],
   "source": [
    "lr.coef_"
   ]
  },
  {
   "cell_type": "code",
   "execution_count": 61,
   "metadata": {
    "collapsed": true
   },
   "outputs": [],
   "source": [
    "class LR():\n",
    "    def __init__(self):\n",
    "        self.w=None\n",
    "    def fit(self,x,y):\n",
    "        self.w=np.linalg.inv(x.T.dot(x)).dot(x.T.dot(y))\n",
    "    def predict(self,x):\n",
    "        y=x.dot(self.w)\n",
    "        return y"
   ]
  },
  {
   "cell_type": "code",
   "execution_count": 63,
   "metadata": {},
   "outputs": [
    {
     "data": {
      "text/plain": [
       "array([1. , 4.5, 6. ])"
      ]
     },
     "execution_count": 63,
     "metadata": {},
     "output_type": "execute_result"
    }
   ],
   "source": [
    "lr=LR()\n",
    "lr.fit(x,y)\n",
    "x_test = np.array([2,4,5]).reshape(1,-1)\n",
    "lr.predict(x_test)\n",
    "lr.w"
   ]
  },
  {
   "cell_type": "code",
   "execution_count": 101,
   "metadata": {
    "collapsed": true
   },
   "outputs": [],
   "source": [
    "class LR_GR():\n",
    "    def __init__(self):\n",
    "        self.w=None\n",
    "    def fit(self,X,y,rate=0.02):\n",
    "        y=y.reshape(-1,1)\n",
    "        [n,m]=X.shape\n",
    "        self.w=np.zeros((m))\n",
    "        loss=1e-10\n",
    "        tol=1e-5\n",
    "        while tol>loss:\n",
    "            h_f = X.dot(self.w).reshape(-1,1) \n",
    "            theta = self.w + rate*np.mean(X*(y - h_f),axis=0) #计算迭代的参数值\n",
    "            tol = np.sum(np.abs(theta - self.w))\n",
    "            self.w = theta\n",
    "        "
   ]
  },
  {
   "cell_type": "code",
   "execution_count": 95,
   "metadata": {
    "collapsed": true
   },
   "outputs": [],
   "source": [
    "class LR_GD():\n",
    "    def __init__(self):\n",
    "        self.w = None     \n",
    "    def fit(self,X,y,alpha=0.02,loss = 1e-10): # 设定步长为0.002,判断是否收敛的条件为1e-10\n",
    "        y = y.reshape(-1,1) #重塑y值的维度以便矩阵运算\n",
    "        [m,d] = np.shape(X) #自变量的维度\n",
    "        self.w = np.zeros((d)) #将参数的初始值定为0\n",
    "        tol = 1e5\n",
    "        #============================= show me your code =======================\n",
    "        while tol > loss:\n",
    "            h_f = X.dot(self.w).reshape(-1,1) \n",
    "            theta = self.w + alpha*np.mean(X*(y - h_f),axis=0) #计算迭代的参数值\n",
    "            tol = np.sum(np.abs(theta - self.w))\n",
    "            self.w = theta\n",
    "        #============================= show me your code =======================\n",
    "    def predict(self, X):\n",
    "        # 用已经拟合的参数值预测新自变量\n",
    "        y_pred = X.dot(self.w)\n",
    "        return y_pred  "
   ]
  },
  {
   "cell_type": "code",
   "execution_count": 102,
   "metadata": {
    "collapsed": true
   },
   "outputs": [],
   "source": [
    "lr=LR_GR()"
   ]
  },
  {
   "cell_type": "code",
   "execution_count": 103,
   "metadata": {},
   "outputs": [],
   "source": [
    "lr.fit(x,y)"
   ]
  },
  {
   "cell_type": "code",
   "execution_count": 104,
   "metadata": {},
   "outputs": [
    {
     "data": {
      "text/plain": [
       "array([1.00000003, 4.49999998, 5.99999999])"
      ]
     },
     "execution_count": 104,
     "metadata": {},
     "output_type": "execute_result"
    }
   ],
   "source": [
    "lr.w"
   ]
  },
  {
   "cell_type": "code",
   "execution_count": null,
   "metadata": {
    "collapsed": true
   },
   "outputs": [],
   "source": []
  }
 ],
 "metadata": {
  "kernelspec": {
   "display_name": "Python 3",
   "language": "python",
   "name": "python3"
  },
  "language_info": {
   "codemirror_mode": {
    "name": "ipython",
    "version": 3
   },
   "file_extension": ".py",
   "mimetype": "text/x-python",
   "name": "python",
   "nbconvert_exporter": "python",
   "pygments_lexer": "ipython3",
   "version": "3.6.2"
  }
 },
 "nbformat": 4,
 "nbformat_minor": 2
}
