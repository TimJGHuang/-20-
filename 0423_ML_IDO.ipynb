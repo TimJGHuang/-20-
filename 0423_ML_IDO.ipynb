{
 "cells": [
  {
   "cell_type": "code",
   "execution_count": 1,
   "metadata": {
    "collapsed": true
   },
   "outputs": [],
   "source": [
    "import os\n",
    "import pandas as pd\n",
    "import matplotlib.pyplot as plt\n",
    "import numpy as np\n",
    "import csv\n",
    "import cv2\n",
    "import copy"
   ]
  },
  {
   "cell_type": "code",
   "execution_count": 2,
   "metadata": {
    "collapsed": true
   },
   "outputs": [],
   "source": [
    "train_data=pd.read_csv(r'C:\\D\\IDO_ML\\data\\RAW spectra data\\IDO_RAW_DATA_0422.CSV')\n",
    "list_x=[-6,-5,-3,-2,-1,0,1,2,4,5]\n",
    "list_y=[-2,2,4,-1,-5,1,3,-2,2,-3]\n",
    "list_t=zip(list_x,list_y)\n",
    "results_filt=pd.DataFrame()\n",
    "for x,y in list_t:\n",
    "    temp=train_data[(train_data['X']==x)&(train_data['Y']==y)]\n",
    "    results_filt=pd.concat([results_filt,temp])\n",
    "new_data=results_filt.copy()    \n",
    "part=new_data.iloc[:,1:16]\n",
    "for item in part.keys():\n",
    "    new_data[item]=new_data[item]/new_data['Wavelength']"
   ]
  },
  {
   "cell_type": "code",
   "execution_count": 3,
   "metadata": {
    "collapsed": true
   },
   "outputs": [],
   "source": [
    "data_array=new_data.values.reshape((-1,993,20,1))[:,:,2:16].astype('float32')"
   ]
  },
  {
   "cell_type": "code",
   "execution_count": 4,
   "metadata": {
    "collapsed": true
   },
   "outputs": [],
   "source": [
    "def normal(array):\n",
    "    results=np.zeros((data_array.shape))\n",
    "    for i in range(len(array)):\n",
    "        results[i,:,:,0]=(data_array[i,:,:,0]-data_array[i,:,:,0].mean(axis=0))/(3*data_array[i,:,:,0].std(axis=0))\n",
    "    return results"
   ]
  },
  {
   "cell_type": "code",
   "execution_count": 5,
   "metadata": {
    "collapsed": true
   },
   "outputs": [],
   "source": [
    "data_array_nor=normal(data_array)"
   ]
  },
  {
   "cell_type": "code",
   "execution_count": 6,
   "metadata": {
    "collapsed": true
   },
   "outputs": [],
   "source": [
    "label_data=pd.read_csv(r'C:\\D\\IDO_ML\\data\\RAW spectra data\\IDO_LABEL.csv')\n",
    "list_x=[-6,-5,-3,-2,-1,0,1,2,4,5]\n",
    "list_y=[-2,2,4,-1,-5,1,3,-2,2,-3]\n",
    "list_t=zip(list_x,list_y)\n",
    "results_label=pd.DataFrame()\n",
    "for x,y in list_t:\n",
    "    temp=label_data[(label_data['DieX']==x)&(label_data['DieY']==y)]\n",
    "    results_label=pd.concat([results_label,temp])"
   ]
  },
  {
   "cell_type": "code",
   "execution_count": 7,
   "metadata": {
    "collapsed": true
   },
   "outputs": [],
   "source": [
    "data_label=results_label.pop('X_Overlay')"
   ]
  },
  {
   "cell_type": "code",
   "execution_count": 8,
   "metadata": {
    "collapsed": true
   },
   "outputs": [],
   "source": [
    "data_label=data_label.values"
   ]
  },
  {
   "cell_type": "code",
   "execution_count": 9,
   "metadata": {},
   "outputs": [
    {
     "data": {
      "text/plain": [
       "(1170,)"
      ]
     },
     "execution_count": 9,
     "metadata": {},
     "output_type": "execute_result"
    }
   ],
   "source": [
    "data_label.shape"
   ]
  },
  {
   "cell_type": "code",
   "execution_count": 10,
   "metadata": {
    "collapsed": true
   },
   "outputs": [],
   "source": [
    "from sklearn.model_selection import train_test_split\n",
    "from sklearn.preprocessing import Normalizer\n",
    "X_train, X_val, y_train, y_val = train_test_split(data_array_nor, data_label, test_size=0.1, random_state=42)"
   ]
  },
  {
   "cell_type": "markdown",
   "metadata": {},
   "source": [
    "# building model"
   ]
  },
  {
   "cell_type": "code",
   "execution_count": 11,
   "metadata": {},
   "outputs": [
    {
     "name": "stdout",
     "output_type": "stream",
     "text": [
      "Model: \"sequential\"\n",
      "_________________________________________________________________\n",
      "Layer (type)                 Output Shape              Param #   \n",
      "=================================================================\n",
      "conv2d (Conv2D)              (None, 986, 13, 32)       544       \n",
      "_________________________________________________________________\n",
      "max_pooling2d (MaxPooling2D) (None, 493, 13, 32)       0         \n",
      "_________________________________________________________________\n",
      "conv2d_1 (Conv2D)            (None, 486, 12, 64)       32832     \n",
      "_________________________________________________________________\n",
      "max_pooling2d_1 (MaxPooling2 (None, 243, 12, 64)       0         \n",
      "_________________________________________________________________\n",
      "conv2d_2 (Conv2D)            (None, 236, 11, 128)      131200    \n",
      "_________________________________________________________________\n",
      "max_pooling2d_2 (MaxPooling2 (None, 118, 11, 128)      0         \n",
      "_________________________________________________________________\n",
      "conv2d_3 (Conv2D)            (None, 111, 10, 128)      262272    \n",
      "_________________________________________________________________\n",
      "max_pooling2d_3 (MaxPooling2 (None, 55, 5, 128)        0         \n",
      "_________________________________________________________________\n",
      "flatten (Flatten)            (None, 35200)             0         \n",
      "_________________________________________________________________\n",
      "dense (Dense)                (None, 512)               18022912  \n",
      "_________________________________________________________________\n",
      "dense_1 (Dense)              (None, 1)                 513       \n",
      "=================================================================\n",
      "Total params: 18,450,273\n",
      "Trainable params: 18,450,273\n",
      "Non-trainable params: 0\n",
      "_________________________________________________________________\n"
     ]
    }
   ],
   "source": [
    "from tensorflow.keras import layers,models\n",
    "\n",
    "model = models.Sequential()\n",
    "model.add(layers.Conv2D(32, (8, 2), activation='relu',\n",
    "                        input_shape=(993, 14, 1)))\n",
    "model.add(layers.MaxPooling2D((2, 1)))\n",
    "model.add(layers.Conv2D(64, (8, 2), activation='relu'))\n",
    "model.add(layers.MaxPooling2D((2, 1)))\n",
    "model.add(layers.Conv2D(128, (8, 2), activation='relu'))\n",
    "model.add(layers.MaxPooling2D((2, 1)))\n",
    "model.add(layers.Conv2D(128, (8, 2), activation='relu'))\n",
    "model.add(layers.MaxPooling2D((2, 2)))\n",
    "model.add(layers.Flatten())\n",
    "model.add(layers.Dense(512, activation='relu'))\n",
    "model.add(layers.Dense(1))\n",
    "model.summary()"
   ]
  },
  {
   "cell_type": "code",
   "execution_count": 12,
   "metadata": {
    "collapsed": true
   },
   "outputs": [],
   "source": [
    "from tensorflow.keras import optimizers\n",
    "\n",
    "model.compile(loss='mse',\n",
    "              optimizer=optimizers.RMSprop(lr=1e-4),\n",
    "              metrics=['mse'])"
   ]
  },
  {
   "cell_type": "code",
   "execution_count": 16,
   "metadata": {},
   "outputs": [
    {
     "name": "stdout",
     "output_type": "stream",
     "text": [
      "Train on 1053 samples, validate on 117 samples\n",
      "Epoch 1/80\n",
      "1053/1053 [==============================] - 84s 80ms/sample - loss: 1.5859 - mse: 1.5859 - val_loss: 0.9548 - val_mse: 0.9548\n",
      "Epoch 2/80\n",
      "1053/1053 [==============================] - 86s 82ms/sample - loss: 1.2966 - mse: 1.2966 - val_loss: 1.1822 - val_mse: 1.1822\n",
      "Epoch 3/80\n",
      "1053/1053 [==============================] - 85s 80ms/sample - loss: 1.4185 - mse: 1.4185 - val_loss: 1.2563 - val_mse: 1.2563\n",
      "Epoch 4/80\n",
      "1053/1053 [==============================] - 85s 80ms/sample - loss: 1.3446 - mse: 1.3446 - val_loss: 1.0414 - val_mse: 1.0414\n",
      "Epoch 5/80\n",
      "1053/1053 [==============================] - 86s 81ms/sample - loss: 1.3939 - mse: 1.3939 - val_loss: 0.9421 - val_mse: 0.9421\n",
      "Epoch 6/80\n",
      "1053/1053 [==============================] - 85s 80ms/sample - loss: 1.2850 - mse: 1.2850 - val_loss: 0.9293 - val_mse: 0.9293\n",
      "Epoch 7/80\n",
      "1053/1053 [==============================] - 85s 80ms/sample - loss: 1.2470 - mse: 1.2470 - val_loss: 1.4765 - val_mse: 1.4765\n",
      "Epoch 8/80\n",
      "1053/1053 [==============================] - 85s 81ms/sample - loss: 1.1476 - mse: 1.1476 - val_loss: 1.2115 - val_mse: 1.2115\n",
      "Epoch 9/80\n",
      "1053/1053 [==============================] - 84s 80ms/sample - loss: 1.3704 - mse: 1.3704 - val_loss: 0.9209 - val_mse: 0.9209\n",
      "Epoch 10/80\n",
      "1053/1053 [==============================] - 85s 80ms/sample - loss: 1.1001 - mse: 1.1001 - val_loss: 1.1157 - val_mse: 1.1157\n",
      "Epoch 11/80\n",
      "1053/1053 [==============================] - 87s 83ms/sample - loss: 1.1486 - mse: 1.1486 - val_loss: 1.8621 - val_mse: 1.8621\n",
      "Epoch 12/80\n",
      "1053/1053 [==============================] - 84s 80ms/sample - loss: 1.1700 - mse: 1.1700 - val_loss: 1.6232 - val_mse: 1.6232\n",
      "Epoch 13/80\n",
      "1053/1053 [==============================] - 83s 79ms/sample - loss: 1.1343 - mse: 1.1343 - val_loss: 1.2641 - val_mse: 1.2641\n",
      "Epoch 14/80\n",
      "1053/1053 [==============================] - 83s 79ms/sample - loss: 1.1424 - mse: 1.1424 - val_loss: 1.0986 - val_mse: 1.0986\n",
      "Epoch 15/80\n",
      "1053/1053 [==============================] - 83s 79ms/sample - loss: 1.0300 - mse: 1.0300 - val_loss: 0.9178 - val_mse: 0.9178\n",
      "Epoch 16/80\n",
      "1053/1053 [==============================] - 84s 80ms/sample - loss: 1.2297 - mse: 1.2297 - val_loss: 0.8263 - val_mse: 0.8263\n",
      "Epoch 17/80\n",
      "1053/1053 [==============================] - 83s 79ms/sample - loss: 0.9405 - mse: 0.9405 - val_loss: 0.8500 - val_mse: 0.8500\n",
      "Epoch 18/80\n",
      "1053/1053 [==============================] - 83s 79ms/sample - loss: 1.2291 - mse: 1.2291 - val_loss: 1.1320 - val_mse: 1.1320\n",
      "Epoch 19/80\n",
      "1053/1053 [==============================] - 84s 80ms/sample - loss: 0.9869 - mse: 0.9869 - val_loss: 0.7845 - val_mse: 0.7845\n",
      "Epoch 20/80\n",
      "1053/1053 [==============================] - 83s 79ms/sample - loss: 1.0450 - mse: 1.0450 - val_loss: 0.9727 - val_mse: 0.9727\n",
      "Epoch 21/80\n",
      "1053/1053 [==============================] - 84s 79ms/sample - loss: 1.0077 - mse: 1.0077 - val_loss: 2.0852 - val_mse: 2.0852\n",
      "Epoch 22/80\n",
      "1053/1053 [==============================] - 84s 80ms/sample - loss: 1.1536 - mse: 1.1536 - val_loss: 0.8282 - val_mse: 0.8282\n",
      "Epoch 23/80\n",
      "1053/1053 [==============================] - 83s 79ms/sample - loss: 0.9936 - mse: 0.9936 - val_loss: 0.6878 - val_mse: 0.6878\n",
      "Epoch 24/80\n",
      "1053/1053 [==============================] - 83s 79ms/sample - loss: 0.8738 - mse: 0.8738 - val_loss: 0.9452 - val_mse: 0.9452\n",
      "Epoch 25/80\n",
      "1053/1053 [==============================] - 84s 80ms/sample - loss: 1.0008 - mse: 1.0008 - val_loss: 1.9748 - val_mse: 1.9748\n",
      "Epoch 26/80\n",
      "1053/1053 [==============================] - 92s 87ms/sample - loss: 1.0866 - mse: 1.0866 - val_loss: 0.9129 - val_mse: 0.9129\n",
      "Epoch 27/80\n",
      "1053/1053 [==============================] - 87s 83ms/sample - loss: 0.9801 - mse: 0.9801 - val_loss: 1.3709 - val_mse: 1.3709\n",
      "Epoch 28/80\n",
      "1053/1053 [==============================] - 86s 82ms/sample - loss: 0.9409 - mse: 0.9409 - val_loss: 0.7006 - val_mse: 0.7006\n",
      "Epoch 29/80\n",
      "1053/1053 [==============================] - 86s 81ms/sample - loss: 1.0124 - mse: 1.0124 - val_loss: 0.6422 - val_mse: 0.6422\n",
      "Epoch 30/80\n",
      "1053/1053 [==============================] - 86s 82ms/sample - loss: 0.8969 - mse: 0.8969 - val_loss: 0.8466 - val_mse: 0.8466\n",
      "Epoch 31/80\n",
      "1053/1053 [==============================] - 86s 82ms/sample - loss: 0.8693 - mse: 0.8693 - val_loss: 0.9384 - val_mse: 0.9384\n",
      "Epoch 32/80\n",
      "1053/1053 [==============================] - 86s 81ms/sample - loss: 0.8611 - mse: 0.8611 - val_loss: 1.2688 - val_mse: 1.2688\n",
      "Epoch 33/80\n",
      "1053/1053 [==============================] - 86s 82ms/sample - loss: 0.9182 - mse: 0.9182 - val_loss: 0.8229 - val_mse: 0.8229\n",
      "Epoch 34/80\n",
      "1053/1053 [==============================] - 88s 84ms/sample - loss: 0.8042 - mse: 0.8042 - val_loss: 1.1722 - val_mse: 1.1722\n",
      "Epoch 35/80\n",
      "1053/1053 [==============================] - 86s 82ms/sample - loss: 0.8654 - mse: 0.8654 - val_loss: 0.6477 - val_mse: 0.6477\n",
      "Epoch 36/80\n",
      "1053/1053 [==============================] - 86s 82ms/sample - loss: 0.8502 - mse: 0.8502 - val_loss: 0.6408 - val_mse: 0.6408\n",
      "Epoch 37/80\n",
      "1053/1053 [==============================] - 85s 81ms/sample - loss: 0.8568 - mse: 0.8568 - val_loss: 0.7095 - val_mse: 0.7095\n",
      "Epoch 38/80\n",
      "1053/1053 [==============================] - 86s 81ms/sample - loss: 0.8041 - mse: 0.8041 - val_loss: 0.6878 - val_mse: 0.6878\n",
      "Epoch 39/80\n",
      "1053/1053 [==============================] - 85s 80ms/sample - loss: 0.8159 - mse: 0.8159 - val_loss: 1.5176 - val_mse: 1.5176\n",
      "Epoch 40/80\n",
      "1053/1053 [==============================] - 85s 81ms/sample - loss: 0.8631 - mse: 0.8631 - val_loss: 1.2456 - val_mse: 1.2456\n",
      "Epoch 41/80\n",
      "1053/1053 [==============================] - 84s 80ms/sample - loss: 0.8297 - mse: 0.8297 - val_loss: 0.6481 - val_mse: 0.6481\n",
      "Epoch 42/80\n",
      "1053/1053 [==============================] - 84s 80ms/sample - loss: 0.8057 - mse: 0.8057 - val_loss: 0.6731 - val_mse: 0.6731\n",
      "Epoch 43/80\n",
      "1053/1053 [==============================] - 84s 80ms/sample - loss: 0.7630 - mse: 0.7630 - val_loss: 0.7766 - val_mse: 0.7766\n",
      "Epoch 44/80\n",
      "1053/1053 [==============================] - 87s 82ms/sample - loss: 0.9257 - mse: 0.9257 - val_loss: 0.9643 - val_mse: 0.9643\n",
      "Epoch 45/80\n",
      "1053/1053 [==============================] - 89s 84ms/sample - loss: 0.8433 - mse: 0.8433 - val_loss: 1.2678 - val_mse: 1.2678\n",
      "Epoch 46/80\n",
      "1053/1053 [==============================] - 84s 80ms/sample - loss: 0.6402 - mse: 0.6402 - val_loss: 0.8457 - val_mse: 0.8457\n",
      "Epoch 47/80\n",
      "1053/1053 [==============================] - 84s 80ms/sample - loss: 0.7028 - mse: 0.7028 - val_loss: 1.8408 - val_mse: 1.8408\n",
      "Epoch 48/80\n",
      "1053/1053 [==============================] - 83s 79ms/sample - loss: 1.0061 - mse: 1.0061 - val_loss: 1.5895 - val_mse: 1.5895\n",
      "Epoch 49/80\n",
      "1053/1053 [==============================] - 83s 79ms/sample - loss: 0.6635 - mse: 0.6635 - val_loss: 0.7037 - val_mse: 0.7037\n",
      "Epoch 50/80\n",
      "1053/1053 [==============================] - 86s 82ms/sample - loss: 0.8484 - mse: 0.8484 - val_loss: 0.8746 - val_mse: 0.8746\n",
      "Epoch 51/80\n",
      "1053/1053 [==============================] - 84s 80ms/sample - loss: 0.6964 - mse: 0.6964 - val_loss: 0.6903 - val_mse: 0.6903\n",
      "Epoch 52/80\n",
      "1053/1053 [==============================] - 85s 81ms/sample - loss: 0.7056 - mse: 0.7056 - val_loss: 0.9545 - val_mse: 0.9545\n",
      "Epoch 53/80\n",
      "1053/1053 [==============================] - 84s 80ms/sample - loss: 0.8675 - mse: 0.8675 - val_loss: 0.7677 - val_mse: 0.7677\n",
      "Epoch 54/80\n",
      "1053/1053 [==============================] - 85s 80ms/sample - loss: 0.7291 - mse: 0.7291 - val_loss: 1.5281 - val_mse: 1.5281\n",
      "Epoch 55/80\n",
      "1053/1053 [==============================] - 84s 80ms/sample - loss: 0.7585 - mse: 0.7585 - val_loss: 0.7142 - val_mse: 0.7142\n",
      "Epoch 56/80\n",
      "1053/1053 [==============================] - 84s 80ms/sample - loss: 0.7055 - mse: 0.7055 - val_loss: 0.8656 - val_mse: 0.8656\n",
      "Epoch 57/80\n",
      "1053/1053 [==============================] - 84s 80ms/sample - loss: 0.7919 - mse: 0.7919 - val_loss: 0.7738 - val_mse: 0.7738\n",
      "Epoch 58/80\n",
      "1053/1053 [==============================] - 83s 79ms/sample - loss: 0.6418 - mse: 0.6418 - val_loss: 0.5953 - val_mse: 0.5953\n",
      "Epoch 59/80\n"
     ]
    },
    {
     "name": "stdout",
     "output_type": "stream",
     "text": [
      "1053/1053 [==============================] - 83s 79ms/sample - loss: 0.8696 - mse: 0.8696 - val_loss: 0.5876 - val_mse: 0.5876\n",
      "Epoch 60/80\n",
      "1053/1053 [==============================] - 84s 79ms/sample - loss: 0.7372 - mse: 0.7372 - val_loss: 0.6269 - val_mse: 0.6269\n",
      "Epoch 61/80\n",
      "1053/1053 [==============================] - 84s 80ms/sample - loss: 0.7733 - mse: 0.7733 - val_loss: 0.5705 - val_mse: 0.5705\n",
      "Epoch 62/80\n",
      "1053/1053 [==============================] - 83s 78ms/sample - loss: 0.6576 - mse: 0.6576 - val_loss: 1.0515 - val_mse: 1.0515\n",
      "Epoch 63/80\n",
      "1053/1053 [==============================] - 89s 84ms/sample - loss: 0.6804 - mse: 0.6804 - val_loss: 0.6353 - val_mse: 0.6353\n",
      "Epoch 64/80\n",
      "1053/1053 [==============================] - 103s 98ms/sample - loss: 0.7425 - mse: 0.7425 - val_loss: 0.6193 - val_mse: 0.6193\n",
      "Epoch 65/80\n",
      "1053/1053 [==============================] - 100s 95ms/sample - loss: 0.7272 - mse: 0.7272 - val_loss: 0.6467 - val_mse: 0.6467\n",
      "Epoch 66/80\n",
      "1053/1053 [==============================] - 114s 108ms/sample - loss: 0.6746 - mse: 0.6746 - val_loss: 0.5813 - val_mse: 0.5813\n",
      "Epoch 67/80\n",
      "1053/1053 [==============================] - 94s 89ms/sample - loss: 0.6487 - mse: 0.6487 - val_loss: 0.8774 - val_mse: 0.8774\n",
      "Epoch 68/80\n",
      "1053/1053 [==============================] - 97s 92ms/sample - loss: 0.6894 - mse: 0.6894 - val_loss: 1.1118 - val_mse: 1.1118\n",
      "Epoch 69/80\n",
      "1053/1053 [==============================] - 91s 87ms/sample - loss: 0.7361 - mse: 0.7361 - val_loss: 0.5932 - val_mse: 0.5932\n",
      "Epoch 70/80\n",
      "1053/1053 [==============================] - 97s 92ms/sample - loss: 0.6725 - mse: 0.6725 - val_loss: 0.6758 - val_mse: 0.6758\n",
      "Epoch 71/80\n",
      "1053/1053 [==============================] - 97s 92ms/sample - loss: 0.6714 - mse: 0.6714 - val_loss: 0.9472 - val_mse: 0.9472\n",
      "Epoch 72/80\n",
      "1053/1053 [==============================] - 98s 93ms/sample - loss: 0.6939 - mse: 0.6939 - val_loss: 0.6875 - val_mse: 0.6875\n",
      "Epoch 73/80\n",
      "1053/1053 [==============================] - 87s 83ms/sample - loss: 0.6317 - mse: 0.6317 - val_loss: 0.7137 - val_mse: 0.7137\n",
      "Epoch 74/80\n",
      "1053/1053 [==============================] - 86s 81ms/sample - loss: 0.7149 - mse: 0.7149 - val_loss: 0.6081 - val_mse: 0.6081\n",
      "Epoch 75/80\n",
      "1053/1053 [==============================] - 85s 80ms/sample - loss: 0.5165 - mse: 0.5165 - val_loss: 1.8689 - val_mse: 1.8689\n",
      "Epoch 76/80\n",
      "1053/1053 [==============================] - 86s 82ms/sample - loss: 0.7626 - mse: 0.7626 - val_loss: 0.7520 - val_mse: 0.7520\n",
      "Epoch 77/80\n",
      "1053/1053 [==============================] - 85s 81ms/sample - loss: 0.5397 - mse: 0.5397 - val_loss: 0.5459 - val_mse: 0.5459\n",
      "Epoch 78/80\n",
      "1053/1053 [==============================] - 86s 81ms/sample - loss: 0.7211 - mse: 0.7211 - val_loss: 0.9198 - val_mse: 0.9198\n",
      "Epoch 79/80\n",
      "1053/1053 [==============================] - 85s 81ms/sample - loss: 0.5695 - mse: 0.5695 - val_loss: 1.0055 - val_mse: 1.0055\n",
      "Epoch 80/80\n",
      "1053/1053 [==============================] - 85s 81ms/sample - loss: 0.7802 - mse: 0.7802 - val_loss: 0.6366 - val_mse: 0.6366\n"
     ]
    }
   ],
   "source": [
    "history=model.fit(X_train, y_train, epochs=80,batch_size=100,validation_data=[X_val, y_val])"
   ]
  },
  {
   "cell_type": "code",
   "execution_count": null,
   "metadata": {},
   "outputs": [
    {
     "name": "stdout",
     "output_type": "stream",
     "text": [
      "processing fold # 0\n",
      "Epoch 1/20\n"
     ]
    }
   ],
   "source": [
    "import numpy as np\n",
    "\n",
    "k = 1\n",
    "num_val_samples = len(X_train) // k\n",
    "num_epochs = 20\n",
    "all_scores = []\n",
    "for i in range(k):\n",
    "    print('processing fold #', i)\n",
    "    # Prepare the validation data: data from partition # k\n",
    "    val_data = X_train[i * num_val_samples: (i + 1) * num_val_samples]\n",
    "    val_targets = y_train[i * num_val_samples: (i + 1) * num_val_samples]\n",
    "\n",
    "    # Prepare the training data: data from all other partitions\n",
    "    partial_train_data = np.concatenate(\n",
    "        [X_train[:i * num_val_samples],\n",
    "         X_train[(i + 1) * num_val_samples:]],\n",
    "        axis=0)\n",
    "    partial_train_targets = np.concatenate(\n",
    "        [y_train[:i * num_val_samples],\n",
    "         y_train[(i + 1) * num_val_samples:]],\n",
    "        axis=0)\n",
    "\n",
    "    # Build the Keras model (already compiled)\n",
    "    model.compile(loss='mse',\n",
    "              optimizer=optimizers.RMSprop(lr=1e-4),\n",
    "              metrics=['mse'])\n",
    "    # Train the model (in silent mode, verbose=0)\n",
    "    history=model.fit(partial_train_data, partial_train_targets,\n",
    "              epochs=num_epochs, batch_size=100, verbose=2,validation_data=[val_data, val_targets])\n",
    "    # Evaluate the model on the validation data\n",
    "    all_scores.append(history.history[val_loss])"
   ]
  },
  {
   "cell_type": "code",
   "execution_count": null,
   "metadata": {
    "collapsed": true
   },
   "outputs": [],
   "source": [
    "all_scores"
   ]
  },
  {
   "cell_type": "code",
   "execution_count": 18,
   "metadata": {
    "collapsed": true
   },
   "outputs": [],
   "source": [
    "model.save('IDO_0423_CNN_largets.h5')"
   ]
  },
  {
   "cell_type": "code",
   "execution_count": null,
   "metadata": {
    "collapsed": true
   },
   "outputs": [],
   "source": [
    "history.history"
   ]
  },
  {
   "cell_type": "code",
   "execution_count": null,
   "metadata": {
    "collapsed": true
   },
   "outputs": [],
   "source": []
  },
  {
   "cell_type": "code",
   "execution_count": 17,
   "metadata": {},
   "outputs": [
    {
     "data": {
      "image/png": "[encoded data removed]",
      "text/plain": [
       "<Figure size 432x288 with 1 Axes>"
      ]
     },
     "metadata": {
      "needs_background": "light"
     },
     "output_type": "display_data"
    },
    {
     "data": {
      "image/png": "[encoded data removed]",
      "text/plain": [
       "<Figure size 432x288 with 1 Axes>"
      ]
     },
     "metadata": {
      "needs_background": "light"
     },
     "output_type": "display_data"
    }
   ],
   "source": [
    "import matplotlib.pyplot as plt\n",
    "\n",
    "mse = history.history['mse']\n",
    "val_mse = history.history['val_mse']\n",
    "loss = history.history['loss']\n",
    "val_loss = history.history['val_loss']\n",
    "\n",
    "epochs = range(len(mse))\n",
    "\n",
    "plt.plot(epochs, mse, 'bo', label='Training mae')\n",
    "plt.plot(epochs, val_mse, 'b', label='Validation mae')\n",
    "plt.title('Training and validation mse')\n",
    "plt.legend()\n",
    "\n",
    "plt.figure()\n",
    "\n",
    "plt.plot(epochs, loss, 'bo', label='Training loss')\n",
    "plt.plot(epochs, val_loss, 'b', label='Validation loss')\n",
    "plt.title('Training and validation loss')\n",
    "plt.legend()\n",
    "\n",
    "plt.show()"
   ]
  },
  {
   "cell_type": "code",
   "execution_count": 21,
   "metadata": {},
   "outputs": [],
   "source": [
    "predict=model.predict(X_val)\n",
    "true=y_val\n",
    "import scipy"
   ]
  },
  {
   "cell_type": "code",
   "execution_count": 23,
   "metadata": {},
   "outputs": [
    {
     "data": {
      "text/plain": [
       "<matplotlib.collections.PathCollection at 0x22ec3609e80>"
      ]
     },
     "execution_count": 23,
     "metadata": {},
     "output_type": "execute_result"
    },
    {
     "data": {
      "image/png": "[encoded data removed]",
      "text/plain": [
       "<Figure size 432x288 with 1 Axes>"
      ]
     },
     "metadata": {
      "needs_background": "light"
     },
     "output_type": "display_data"
    }
   ],
   "source": [
    "p1=np.polyfit(predict.reshape(117),true.reshape(117),1)\n",
    "fit=np.polyval(p1,predict.reshape(117))\n",
    "plt.scatter(predict,true)\n",
    "plt.scatter(predict,fit)"
   ]
  },
  {
   "cell_type": "code",
   "execution_count": 25,
   "metadata": {},
   "outputs": [],
   "source": [
    "slope, intercept, r_value, p_value, std_err = scipy.stats.linregress(predict.reshape(117),true.reshape(117))"
   ]
  },
  {
   "cell_type": "code",
   "execution_count": 26,
   "metadata": {},
   "outputs": [
    {
     "data": {
      "text/plain": [
       "0.9871032873061397"
      ]
     },
     "execution_count": 26,
     "metadata": {},
     "output_type": "execute_result"
    }
   ],
   "source": [
    "r_value"
   ]
  },
  {
   "cell_type": "code",
   "execution_count": 37,
   "metadata": {},
   "outputs": [
    {
     "data": {
      "image/png": "[encoded data removed]",
      "text/plain": [
       "<Figure size 432x288 with 1 Axes>"
      ]
     },
     "metadata": {
      "needs_background": "light"
     },
     "output_type": "display_data"
    }
   ],
   "source": [
    "def smooth_curve(points, factor=0.92):\n",
    "  smoothed_points = []\n",
    "  for point in points:\n",
    "    if smoothed_points:\n",
    "      previous = smoothed_points[-1]\n",
    "      smoothed_points.append(previous * factor + point * (1 - factor))\n",
    "    else:\n",
    "      smoothed_points.append(point)\n",
    "  return smoothed_points\n",
    "\n",
    "smooth_mae_history = smooth_curve(val_mse)\n",
    "smooth_mse_history = smooth_curve(mse)\n",
    "\n",
    "plt.plot(range(1, len(smooth_mae_history) + 1), smooth_mae_history)\n",
    "plt.plot(range(1, len(smooth_mse_history) + 1), smooth_mse_history)\n",
    "plt.xlabel('Epochs')\n",
    "plt.ylabel('Validation MAE')\n",
    "plt.show()"
   ]
  },
  {
   "cell_type": "code",
   "execution_count": null,
   "metadata": {
    "collapsed": true
   },
   "outputs": [],
   "source": []
  }
 ],
 "metadata": {
  "kernelspec": {
   "display_name": "Python (tf)",
   "language": "python",
   "name": "tf_2c"
  },
  "language_info": {
   "codemirror_mode": {
    "name": "ipython",
    "version": 3
   },
   "file_extension": ".py",
   "mimetype": "text/x-python",
   "name": "python",
   "nbconvert_exporter": "python",
   "pygments_lexer": "ipython3",
   "version": "3.6.10"
  }
 },
 "nbformat": 4,
 "nbformat_minor": 2
}
